{
 "cells": [
  {
   "cell_type": "markdown",
   "metadata": {
    "collapsed": true
   },
   "source": [
    "## Jass Style with ML\n",
    "\n",
    "Problem: Find jass style based on 9 cards\n",
    "\n",
    "Card suits: Rose, Shield, Oak, Bell\n",
    "\n",
    "Card values: Ace, King, Queen, Jack, Ten, Nine, Eight, Seven, Six\n",
    "\n",
    "Jass Styles: Top Down, Bottom Up, Trump Rose, Trump Shield, Trump Oak, Trump Bell\n",
    "\n",
    "Input Value: 4 Bits One Hot Suit, 9 Bits One Hot Value\n",
    "Output: 6 Bit One Hot Style"
   ]
  },
  {
   "cell_type": "markdown",
   "metadata": {},
   "source": [
    "### Import data\n",
    "Read data from CSV files and push them into a Numpy array"
   ]
  },
  {
   "cell_type": "code",
   "execution_count": 2,
   "metadata": {},
   "outputs": [
    {
     "name": "stdout",
     "output_type": "stream",
     "text": [
      "11700000\n",
      "600000\n"
     ]
    }
   ],
   "source": [
    "import csv\n",
    "import urllib.request\n",
    "import tensorflow as tf\n",
    "import numpy as np\n",
    "\n",
    "features = []\n",
    "labels = []\n",
    "\n",
    "for line in urllib.request.urlopen('https://www.dropbox.com/s/vwu6d5kd4oysqj6/jass100k.csv?dl=1'):\n",
    "    feature, label = str(line).split(';')\n",
    "    features.append(list(feature[2:]))\n",
    "    labels.append(list(label[:-3]))\n",
    "\n",
    "features = np.stack(features)\n",
    "labels = np.stack(labels)\n",
    "\n",
    "print(features.size)\n",
    "print(labels.size)"
   ]
  },
  {
   "cell_type": "markdown",
   "metadata": {},
   "source": [
    "### NN model by keras\n",
    "Very simple model"
   ]
  },
  {
   "cell_type": "code",
   "execution_count": 3,
   "metadata": {},
   "outputs": [
    {
     "name": "stderr",
     "output_type": "stream",
     "text": [
      "Using TensorFlow backend.\n"
     ]
    }
   ],
   "source": [
    "import keras\n",
    "from keras.models import Sequential\n",
    "from keras.layers import Dense, Dropout, Activation\n",
    "from keras.optimizers import SGD\n",
    "\n",
    "model = Sequential()\n",
    "model.add(Dense(64, activation='relu', input_dim=117))\n",
    "model.add(Dense(64, activation='relu'))\n",
    "model.add(Dense(6, activation='softmax'))"
   ]
  },
  {
   "cell_type": "code",
   "execution_count": 4,
   "metadata": {},
   "outputs": [],
   "source": [
    "sgd = SGD(lr=0.01, decay=1e-6, momentum=0.9, nesterov=True)\n",
    "model.compile(loss='categorical_crossentropy',\n",
    "              optimizer=sgd,\n",
    "              metrics=['accuracy'])"
   ]
  },
  {
   "cell_type": "code",
   "execution_count": 9,
   "metadata": {},
   "outputs": [
    {
     "name": "stdout",
     "output_type": "stream",
     "text": [
      "Train on 90000 samples, validate on 10000 samples\n",
      "Epoch 1/1\n",
      "90000/90000 [==============================] - 8s 86us/step - loss: 0.1506 - acc: 0.9436 - val_loss: 0.1347 - val_acc: 0.9488\n"
     ]
    },
    {
     "data": {
      "text/plain": [
       "<keras.callbacks.History at 0x7f26dab13d68>"
      ]
     },
     "execution_count": 9,
     "metadata": {},
     "output_type": "execute_result"
    }
   ],
   "source": [
    "model.fit(features, labels, validation_split = 0.1)"
   ]
  },
  {
   "cell_type": "code",
   "execution_count": 30,
   "metadata": {},
   "outputs": [],
   "source": [
    "def cardsInput(cards):\n",
    "    result = []\n",
    "    suits = {\n",
    "        'r': [1,0,0,0],\n",
    "        's': [0,1,0,0],\n",
    "        'o': [0,0,1,0],\n",
    "        'b': [0,0,0,1]\n",
    "    }\n",
    "    values = {\n",
    "        'a': [1,0,0,0,0,0,0,0,0],\n",
    "        'k': [0,1,0,0,0,0,0,0,0],\n",
    "        'q': [0,0,1,0,0,0,0,0,0],\n",
    "        'j': [0,0,0,1,0,0,0,0,0],\n",
    "        '10': [0,0,0,0,1,0,0,0,0],\n",
    "        '9': [0,0,0,0,0,1,0,0,0],\n",
    "        '8': [0,0,0,0,0,0,1,0,0],\n",
    "        '7': [0,0,0,0,0,0,0,1,0],\n",
    "        '6': [0,0,0,0,0,0,0,0,1]\n",
    "    }\n",
    "    for card in cards:\n",
    "        result.extend(suits[card[0:1]])\n",
    "        result.extend(values[card[1:]])\n",
    "        \n",
    "    return np.array([result])"
   ]
  },
  {
   "cell_type": "code",
   "execution_count": 24,
   "metadata": {},
   "outputs": [
    {
     "data": {
      "text/plain": [
       "array([  5.79788617e-09,   4.51999514e-11,   3.88790866e-09,\n",
       "         9.99960184e-01,   3.97561707e-05,   1.61103877e-08], dtype=float32)"
      ]
     },
     "execution_count": 24,
     "metadata": {},
     "output_type": "execute_result"
    }
   ],
   "source": [
    "prediction[0]"
   ]
  },
  {
   "cell_type": "code",
   "execution_count": 25,
   "metadata": {},
   "outputs": [],
   "source": [
    "def styleOutput(prediction):\n",
    "    result = ['Top Down', 'Bottom Up', 'Trump Rose', 'Trump Shield', 'Trump Oak', 'Trump Bell']\n",
    "    return result[np.argmax(prediction[0])]\n"
   ]
  },
  {
   "cell_type": "code",
   "execution_count": 29,
   "metadata": {},
   "outputs": [
    {
     "data": {
      "text/plain": [
       "'Trump Oak'"
      ]
     },
     "execution_count": 29,
     "metadata": {},
     "output_type": "execute_result"
    }
   ],
   "source": [
    "styleOutput(model.predict(cardsInput(['sa','sk','sq','oj','s10','o9','s8','s7','s6'])))"
   ]
  },
  {
   "cell_type": "code",
   "execution_count": null,
   "metadata": {},
   "outputs": [],
   "source": []
  }
 ],
 "metadata": {
  "kernelspec": {
   "display_name": "Python 3.6",
   "language": "python",
   "name": "python36"
  },
  "language_info": {
   "codemirror_mode": {
    "name": "ipython",
    "version": 3
   },
   "file_extension": ".py",
   "mimetype": "text/x-python",
   "name": "python",
   "nbconvert_exporter": "python",
   "pygments_lexer": "ipython3",
   "version": "3.6.3"
  }
 },
 "nbformat": 4,
 "nbformat_minor": 2
}
